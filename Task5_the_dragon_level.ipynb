{
 "cells": [
  {
   "cell_type": "code",
   "execution_count": 2,
   "id": "b5ed33db-b60e-413d-8c53-b2d981ff11d0",
   "metadata": {
    "scrolled": true
   },
   "outputs": [],
   "source": [
    "# Import necessary libraries\n",
    "import numpy as np\n",
    "import tensorflow as tf\n",
    "import matplotlib.pyplot as plt\n",
    "import os\n",
    "import pennylane as qml\n",
    "from pennylane import numpy as pnp\n",
    "from pennylane.optimize import AdamOptimizer"
   ]
  },
  {
   "cell_type": "code",
   "execution_count": 3,
   "id": "a87dde13-b884-4698-9b31-bdbc52039c5c",
   "metadata": {},
   "outputs": [
    {
     "name": "stdout",
     "output_type": "stream",
     "text": [
      "Num GPUs Available:  0\n"
     ]
    }
   ],
   "source": [
    "# Ensure GPU is available if needed\n",
    "print(\"Num GPUs Available: \", len(tf.config.list_physical_devices('GPU')))"
   ]
  },
  {
   "cell_type": "code",
   "execution_count": 6,
   "id": "cfa29a0c-0307-4435-ba9f-05ef1ba3ed88",
   "metadata": {},
   "outputs": [],
   "source": [
    "# Local dataset path (update this path based on your local setup)\n",
    "dataset_path = '/Users/hannasav/downloads/qars/al5083'\n",
    "train_image_dir = os.path.join(dataset_path, 'train')\n",
    "test_image_dir = os.path.join(dataset_path, 'test')"
   ]
  },
  {
   "cell_type": "code",
   "execution_count": 8,
   "id": "ec978e1d-89c7-4c51-b31c-9be8e7ddd5e9",
   "metadata": {},
   "outputs": [],
   "source": [
    "# Parameters for quicker testing\n",
    "NUM_TRAIN_IMAGES = 100  # Limit number of training images\n",
    "NUM_TEST_IMAGES = 50    # Limit number of testing images\n",
    "IMAGE_SIZE = (64, 64)   # Reduced image size for faster processing\n",
    "BATCH_SIZE = 32         # Define batch size"
   ]
  },
  {
   "cell_type": "code",
   "execution_count": 10,
   "id": "dd799604-4fd0-4135-ae14-82e526f33aac",
   "metadata": {},
   "outputs": [],
   "source": [
    "# Function to load a limited number of image files from a directory\n",
    "def get_limited_image_paths_and_labels(directory, label, limit=None):\n",
    "    image_paths = []\n",
    "    labels = []\n",
    "    count = 0\n",
    "    for root, _, files in os.walk(directory):\n",
    "        for file in files:\n",
    "            if file.endswith(('.png', '.jpg', '.jpeg')):\n",
    "                image_paths.append(os.path.join(root, file))\n",
    "                labels.append(label)\n",
    "                count += 1\n",
    "                if limit and count >= limit:\n",
    "                    return image_paths, labels\n",
    "    return image_paths, labels"
   ]
  },
  {
   "cell_type": "code",
   "execution_count": 12,
   "id": "8f7805e4-4eb1-4cd9-a848-f80e3c2df07d",
   "metadata": {},
   "outputs": [],
   "source": [
    "# Define a simplified image processing function\n",
    "def preprocess_image(image_path, label):\n",
    "    image = tf.io.read_file(image_path)\n",
    "    image = tf.image.decode_image(image, channels=3, expand_animations=False)\n",
    "    image = tf.image.resize(image, IMAGE_SIZE)  # Smaller size for faster processing\n",
    "    image = image / 255.0  # Normalize to [0, 1]\n",
    "    return image, label"
   ]
  },
  {
   "cell_type": "code",
   "execution_count": 14,
   "id": "6344b5d8-a185-4f89-99d5-29ea12ac6e1d",
   "metadata": {},
   "outputs": [],
   "source": [
    "# Create TensorFlow Dataset with larger batch size if memory allows\n",
    "def create_tf_dataset(image_paths, labels, batch_size=BATCH_SIZE):\n",
    "    dataset = tf.data.Dataset.from_tensor_slices((image_paths, labels))\n",
    "    dataset = dataset.map(lambda x, y: preprocess_image(x, y), num_parallel_calls=tf.data.experimental.AUTOTUNE)\n",
    "    dataset = dataset.shuffle(buffer_size=1000)\n",
    "    dataset = dataset.batch(batch_size)\n",
    "    dataset = dataset.prefetch(buffer_size=tf.data.experimental.AUTOTUNE)\n",
    "    return dataset"
   ]
  },
  {
   "cell_type": "code",
   "execution_count": 16,
   "id": "3a7aa42b-04ad-44c7-9d1a-226e120a3021",
   "metadata": {},
   "outputs": [],
   "source": [
    "# Get a limited number of images\n",
    "train_image_paths, train_labels = get_limited_image_paths_and_labels(train_image_dir, label=1, limit=NUM_TRAIN_IMAGES)\n",
    "test_image_paths, test_labels = get_limited_image_paths_and_labels(test_image_dir, label=0, limit=NUM_TEST_IMAGES)"
   ]
  },
  {
   "cell_type": "code",
   "execution_count": 18,
   "id": "4e2fc4e5-1799-46c7-98ef-bc02ea7388cb",
   "metadata": {},
   "outputs": [],
   "source": [
    "def create_classical_model():\n",
    "    model = tf.keras.Sequential([\n",
    "        tf.keras.layers.InputLayer(input_shape=(IMAGE_SIZE[0], IMAGE_SIZE[1], 3)),  # Using InputLayer for the first layer\n",
    "        tf.keras.layers.Conv2D(32, (3, 3), activation='relu'),\n",
    "        tf.keras.layers.MaxPooling2D(2, 2),\n",
    "        tf.keras.layers.Conv2D(64, (3, 3), activation='relu'),\n",
    "        tf.keras.layers.MaxPooling2D(2, 2),\n",
    "        tf.keras.layers.Flatten(),\n",
    "        tf.keras.layers.Dense(64, activation='relu'),\n",
    "        tf.keras.layers.Dense(1, activation='sigmoid')  # Assuming binary classification\n",
    "    ])\n",
    "    model.compile(optimizer='adam', loss='binary_crossentropy', metrics=['accuracy'])\n",
    "    return model"
   ]
  },
  {
   "cell_type": "code",
   "execution_count": 20,
   "id": "8a1a7679-8d22-477c-a1e2-ed62a5b716ab",
   "metadata": {},
   "outputs": [
    {
     "name": "stderr",
     "output_type": "stream",
     "text": [
      "/opt/anaconda3/lib/python3.11/site-packages/keras/src/layers/core/input_layer.py:26: UserWarning: Argument `input_shape` is deprecated. Use `shape` instead.\n",
      "  warnings.warn(\n"
     ]
    },
    {
     "ename": "NameError",
     "evalue": "name 'train_ds' is not defined",
     "output_type": "error",
     "traceback": [
      "\u001b[0;31m---------------------------------------------------------------------------\u001b[0m",
      "\u001b[0;31mNameError\u001b[0m                                 Traceback (most recent call last)",
      "Cell \u001b[0;32mIn[20], line 2\u001b[0m\n\u001b[1;32m      1\u001b[0m classical_model \u001b[38;5;241m=\u001b[39m create_classical_model()\n\u001b[0;32m----> 2\u001b[0m history_classical \u001b[38;5;241m=\u001b[39m classical_model\u001b[38;5;241m.\u001b[39mfit(train_ds, epochs\u001b[38;5;241m=\u001b[39m\u001b[38;5;241m1\u001b[39m, validation_data\u001b[38;5;241m=\u001b[39mtest_ds)\n",
      "\u001b[0;31mNameError\u001b[0m: name 'train_ds' is not defined"
     ]
    }
   ],
   "source": [
    "classical_model = create_classical_model()\n",
    "history_classical = classical_model.fit(train_ds, epochs=1, validation_data=test_ds)"
   ]
  },
  {
   "cell_type": "code",
   "execution_count": 30,
   "id": "c0134b98-7e4b-4fd3-be2c-bdd73b5e5083",
   "metadata": {},
   "outputs": [],
   "source": [
    "def create_quantum_model():\n",
    "    dev = qml.device(\"default.qubit\", wires=4)\n",
    "    \n",
    "    @qml.qnode(dev)\n",
    "    def quantum_circuit(params, x):\n",
    "        qml.AngleEmbedding(x, wires=range(4))\n",
    "        qml.BasicEntanglerLayers(params, wires=range(4))\n",
    "        return qml.expval(qml.PauliZ(0))\n",
    "    \n",
    "    def qnn(params, x):\n",
    "        return quantum_circuit(params, x)\n",
    "    \n",
    "    class QuantumModel(tf.keras.Model):\n",
    "        def __init__(self, n_qubits=4, n_layers=3):\n",
    "            super(QuantumModel, self).__init__()\n",
    "            self.params = tf.Variable(pnp.random.randn(n_layers, n_qubits, 3))\n",
    "            self.optimizer = AdamOptimizer(0.1)\n",
    "        \n",
    "        def call(self, x):\n",
    "            return tf.map_fn(lambda xi: qnn(self.params, xi), x, dtype=tf.float32)\n",
    "        \n",
    "        def train_step(self, data):\n",
    "            x, y = data\n",
    "            with tf.GradientTape() as tape:\n",
    "                predictions = self(x)\n",
    "                loss = tf.keras.losses.binary_crossentropy(y, predictions)\n",
    "            gradients = tape.gradient(loss, [self.params])\n",
    "            self.optimizer.apply_gradients(zip(gradients, [self.params]))\n",
    "            return {'loss': loss}\n",
    "\n",
    "    return QuantumModel()"
   ]
  },
  {
   "cell_type": "code",
   "execution_count": 32,
   "id": "b5859748-3e90-4c4d-be2a-0e63a0b550d8",
   "metadata": {},
   "outputs": [
    {
     "ename": "NameError",
     "evalue": "name 'train_ds' is not defined",
     "output_type": "error",
     "traceback": [
      "\u001b[0;31m---------------------------------------------------------------------------\u001b[0m",
      "\u001b[0;31mNameError\u001b[0m                                 Traceback (most recent call last)",
      "Cell \u001b[0;32mIn[32], line 2\u001b[0m\n\u001b[1;32m      1\u001b[0m quantum_model \u001b[38;5;241m=\u001b[39m create_quantum_model()\n\u001b[0;32m----> 2\u001b[0m history_quantum \u001b[38;5;241m=\u001b[39m quantum_model\u001b[38;5;241m.\u001b[39mfit(train_ds, epochs\u001b[38;5;241m=\u001b[39m\u001b[38;5;241m3\u001b[39m, validation_data\u001b[38;5;241m=\u001b[39mtest_ds)\n",
      "\u001b[0;31mNameError\u001b[0m: name 'train_ds' is not defined"
     ]
    }
   ],
   "source": [
    "quantum_model = create_quantum_model()\n",
    "history_quantum = quantum_model.fit(train_ds, epochs=3, validation_data=test_ds)"
   ]
  },
  {
   "cell_type": "code",
   "execution_count": 34,
   "id": "9fe128fa-d512-4a86-83a9-79fd2ccd263f",
   "metadata": {},
   "outputs": [
    {
     "ename": "NameError",
     "evalue": "name 'test_ds' is not defined",
     "output_type": "error",
     "traceback": [
      "\u001b[0;31m---------------------------------------------------------------------------\u001b[0m",
      "\u001b[0;31mNameError\u001b[0m                                 Traceback (most recent call last)",
      "Cell \u001b[0;32mIn[34], line 1\u001b[0m\n\u001b[0;32m----> 1\u001b[0m test_loss_classical, test_acc_classical \u001b[38;5;241m=\u001b[39m classical_model\u001b[38;5;241m.\u001b[39mevaluate(test_ds)\n\u001b[1;32m      2\u001b[0m \u001b[38;5;28mprint\u001b[39m(\u001b[38;5;124mf\u001b[39m\u001b[38;5;124m'\u001b[39m\u001b[38;5;124mClassical model test accuracy: \u001b[39m\u001b[38;5;132;01m{\u001b[39;00mtest_acc_classical\u001b[38;5;132;01m}\u001b[39;00m\u001b[38;5;124m'\u001b[39m)\n\u001b[1;32m      4\u001b[0m test_loss_quantum, test_acc_quantum \u001b[38;5;241m=\u001b[39m quantum_model\u001b[38;5;241m.\u001b[39mevaluate(test_ds)\n",
      "\u001b[0;31mNameError\u001b[0m: name 'test_ds' is not defined"
     ]
    }
   ],
   "source": [
    "test_loss_classical, test_acc_classical = classical_model.evaluate(test_ds)\n",
    "print(f'Classical model test accuracy: {test_acc_classical}')\n",
    "\n",
    "test_loss_quantum, test_acc_quantum = quantum_model.evaluate(test_ds)\n",
    "print(f'Quantum model test accuracy: {test_acc_quantum}')"
   ]
  },
  {
   "cell_type": "code",
   "execution_count": 36,
   "id": "7faa9cd3-bca6-45b2-b356-a243562ae13a",
   "metadata": {},
   "outputs": [
    {
     "ename": "NameError",
     "evalue": "name 'history_classical' is not defined",
     "output_type": "error",
     "traceback": [
      "\u001b[0;31m---------------------------------------------------------------------------\u001b[0m",
      "\u001b[0;31mNameError\u001b[0m                                 Traceback (most recent call last)",
      "Cell \u001b[0;32mIn[36], line 3\u001b[0m\n\u001b[1;32m      1\u001b[0m plt\u001b[38;5;241m.\u001b[39mstyle\u001b[38;5;241m.\u001b[39muse(\u001b[38;5;124m\"\u001b[39m\u001b[38;5;124mclassic\u001b[39m\u001b[38;5;124m\"\u001b[39m)\n\u001b[1;32m      2\u001b[0m fig, (ax1, ax2) \u001b[38;5;241m=\u001b[39m plt\u001b[38;5;241m.\u001b[39msubplots(\u001b[38;5;241m2\u001b[39m, \u001b[38;5;241m1\u001b[39m, figsize\u001b[38;5;241m=\u001b[39m(\u001b[38;5;241m6\u001b[39m, \u001b[38;5;241m9\u001b[39m))\n\u001b[0;32m----> 3\u001b[0m ax1\u001b[38;5;241m.\u001b[39mplot(history_classical\u001b[38;5;241m.\u001b[39mhistory[\u001b[38;5;124m'\u001b[39m\u001b[38;5;124mval_accuracy\u001b[39m\u001b[38;5;124m'\u001b[39m], \u001b[38;5;124m\"\u001b[39m\u001b[38;5;124m-og\u001b[39m\u001b[38;5;124m\"\u001b[39m, label\u001b[38;5;241m=\u001b[39m\u001b[38;5;124m\"\u001b[39m\u001b[38;5;124mClassical model\u001b[39m\u001b[38;5;124m\"\u001b[39m)\n\u001b[1;32m      4\u001b[0m ax1\u001b[38;5;241m.\u001b[39mplot(history_quantum\u001b[38;5;241m.\u001b[39mhistory[\u001b[38;5;124m'\u001b[39m\u001b[38;5;124mval_accuracy\u001b[39m\u001b[38;5;124m'\u001b[39m], \u001b[38;5;124m\"\u001b[39m\u001b[38;5;124m-ob\u001b[39m\u001b[38;5;124m\"\u001b[39m, label\u001b[38;5;241m=\u001b[39m\u001b[38;5;124m\"\u001b[39m\u001b[38;5;124mQuantum model\u001b[39m\u001b[38;5;124m\"\u001b[39m)\n\u001b[1;32m      5\u001b[0m ax1\u001b[38;5;241m.\u001b[39mset_ylabel(\u001b[38;5;124m\"\u001b[39m\u001b[38;5;124mValidation Accuracy\u001b[39m\u001b[38;5;124m\"\u001b[39m)\n",
      "\u001b[0;31mNameError\u001b[0m: name 'history_classical' is not defined"
     ]
    },
    {
     "data": {
      "image/png": "[encoded data removed]",
      "text/plain": [
       "<Figure size 480x720 with 2 Axes>"
      ]
     },
     "metadata": {},
     "output_type": "display_data"
    }
   ],
   "source": [
    "plt.style.use(\"classic\")\n",
    "fig, (ax1, ax2) = plt.subplots(2, 1, figsize=(6, 9))\n",
    "ax1.plot(history_classical.history['val_accuracy'], \"-og\", label=\"Classical model\")\n",
    "ax1.plot(history_quantum.history['val_accuracy'], \"-ob\", label=\"Quantum model\")\n",
    "ax1.set_ylabel(\"Validation Accuracy\")\n",
    "ax1.legend()\n",
    "\n",
    "ax2.plot(history_classical.history['val_loss'], \"-og\", label=\"Classical model\")\n",
    "ax2.plot(history_quantum.history['val_loss'], \"-ob\", label=\"Quantum model\")\n",
    "ax2.set_ylabel(\"Validation Loss\")\n",
    "ax2.legend()\n",
    "\n",
    "plt.tight_layout()\n",
    "plt.show()"
   ]
  },
  {
   "cell_type": "code",
   "execution_count": null,
   "id": "47b3eadf-aa6e-4ddf-b943-4db76c61f447",
   "metadata": {},
   "outputs": [],
   "source": []
  }
 ],
 "metadata": {
  "kernelspec": {
   "display_name": "Python 3 (ipykernel)",
   "language": "python",
   "name": "python3"
  },
  "language_info": {
   "codemirror_mode": {
    "name": "ipython",
    "version": 3
   },
   "file_extension": ".py",
   "mimetype": "text/x-python",
   "name": "python",
   "nbconvert_exporter": "python",
   "pygments_lexer": "ipython3",
   "version": "3.11.7"
  }
 },
 "nbformat": 4,
 "nbformat_minor": 5
}
